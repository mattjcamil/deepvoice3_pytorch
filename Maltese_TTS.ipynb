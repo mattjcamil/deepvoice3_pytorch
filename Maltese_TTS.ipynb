{
  "nbformat": 4,
  "nbformat_minor": 0,
  "metadata": {
    "colab": {
      "name": "Maltese TTS",
      "private_outputs": true,
      "provenance": [],
      "collapsed_sections": [],
      "toc_visible": true,
      "include_colab_link": true
    },
    "kernelspec": {
      "name": "python3",
      "display_name": "Python 3"
    },
    "accelerator": "GPU"
  },
  "cells": [
    {
      "cell_type": "markdown",
      "metadata": {
        "id": "view-in-github",
        "colab_type": "text"
      },
      "source": [
        "<a href=\"https://colab.research.google.com/github/mattjcamil/deepvoice3_pytorch/blob/master/Maltese_TTS.ipynb\" target=\"_parent\"><img src=\"https://colab.research.google.com/assets/colab-badge.svg\" alt=\"Open In Colab\"/></a>"
      ]
    },
    {
      "cell_type": "markdown",
      "metadata": {
        "id": "Za124iWvdMsZ"
      },
      "source": [
        "# Maltese TTS Demo Based on Deep Voice 3\n"
      ]
    },
    {
      "cell_type": "markdown",
      "metadata": {
        "id": "ml6wOhwqhGiI"
      },
      "source": [
        "## Setup"
      ]
    },
    {
      "cell_type": "markdown",
      "metadata": {
        "id": "QjindPTItq75"
      },
      "source": [
        "### Install dependencies"
      ]
    },
    {
      "cell_type": "code",
      "metadata": {
        "id": "kemMMs6pg9Rv"
      },
      "source": [
        "import os\n",
        "from os.path import exists, join, expanduser\n",
        "\n",
        "# Clone\n",
        "name = \"deepvoice3_pytorch\"\n",
        "if not exists(name):\n",
        "  ! git clone https://github.com/mattjcamil/$name"
      ],
      "execution_count": null,
      "outputs": []
    },
    {
      "cell_type": "code",
      "metadata": {
        "id": "1F398L9OOW5G"
      },
      "source": [
        "%tensorflow_version 1.14"
      ],
      "execution_count": null,
      "outputs": []
    },
    {
      "cell_type": "code",
      "metadata": {
        "id": "0xQizLH4OXNO"
      },
      "source": [
        "%cd deepvoice3_pytorch/"
      ],
      "execution_count": null,
      "outputs": []
    },
    {
      "cell_type": "code",
      "metadata": {
        "id": "ntBxf7b6DCqT"
      },
      "source": [
        "# Git checkout with comit version\n",
        "\n",
        "!git checkout 707c95e55847dcb20879d5f8402ada9c6df25eba --quiet\n"
      ],
      "execution_count": null,
      "outputs": []
    },
    {
      "cell_type": "code",
      "metadata": {
        "id": "a4SZMEWDWenf"
      },
      "source": [
        "# Install dependencices\n",
        "!pip install -q -e \".[bin]\""
      ],
      "execution_count": null,
      "outputs": []
    },
    {
      "cell_type": "code",
      "metadata": {
        "id": "X6VFmDe-ideo"
      },
      "source": [
        "%pylab inline\n",
        "! pip install -q librosa nltk\n",
        "\n",
        "import torch\n",
        "import numpy as np\n",
        "import librosa\n",
        "import librosa.display\n",
        "import IPython\n",
        "from IPython.display import Audio\n",
        "\n",
        "import nltk\n",
        "! python -m nltk.downloader cmudict"
      ],
      "execution_count": null,
      "outputs": []
    },
    {
      "cell_type": "markdown",
      "metadata": {
        "id": "_l1Gd2SStt0E"
      },
      "source": [
        "### Download a pre-trained model"
      ]
    },
    {
      "cell_type": "code",
      "metadata": {
        "id": "42Zwjr4UjNn_"
      },
      "source": [
        "#change the checkpoint path to change the model\n",
        "preset = \"deepvoice3_ljspeech.json\"\n",
        "\n",
        "checkpoint_path = \"checkpoint_step000750000_Exp13.pth\"\n"
      ],
      "execution_count": null,
      "outputs": []
    },
    {
      "cell_type": "code",
      "metadata": {
        "id": "45Wrp8INj6Xu"
      },
      "source": [
        "if not exists(preset):\n",
        "  !curl -O -L \"https://www.dropbox.com/s/od6tmutsyd5ylj5/deepvoice3_ljspeech.json\"\n",
        "if not exists(checkpoint_path):\n",
        "  !curl -O -L \"https://www.dropbox.com/s/x0v2djnkfriewph/checkpoint_step000750000_Exp13.pth\""
      ],
      "execution_count": null,
      "outputs": []
    },
    {
      "cell_type": "markdown",
      "metadata": {
        "id": "_yJ90ESZiT_S"
      },
      "source": [
        "## Synthesis"
      ]
    },
    {
      "cell_type": "markdown",
      "metadata": {
        "id": "FUyhiJg03dj6"
      },
      "source": [
        "### Setup hyper parameters"
      ]
    },
    {
      "cell_type": "code",
      "metadata": {
        "id": "E9sLuYgcnbZb"
      },
      "source": [
        "import hparams\n",
        "import json\n",
        "\n",
        "    \n",
        "# Load parameters from preset\n",
        "with open(preset) as f:\n",
        "  hparams.hparams.parse_json(f.read())\n",
        "  \n",
        "# Inject frontend text processor\n",
        "import synthesis\n",
        "import train\n",
        "from deepvoice3_pytorch import frontend\n",
        "synthesis._frontend = getattr(frontend, \"en\")\n",
        "train._frontend =  getattr(frontend, \"en\")\n",
        "\n",
        "# alises\n",
        "fs = hparams.hparams.sample_rate\n",
        "hop_length = hparams.hparams.hop_size"
      ],
      "execution_count": null,
      "outputs": []
    },
    {
      "cell_type": "markdown",
      "metadata": {
        "id": "C4NOldY83wG1"
      },
      "source": [
        "### Define utility functions"
      ]
    },
    {
      "cell_type": "code",
      "metadata": {
        "id": "xRbelGLjiSfA"
      },
      "source": [
        "def tts(model, text, p=0, speaker_id=None, fast=True, figures=True):\n",
        "  from synthesis import tts as _tts\n",
        "  waveform, alignment, spectrogram, mel = _tts(model, text, p, speaker_id, fast)\n",
        "  if figures:\n",
        "      visualize(alignment, spectrogram)\n",
        "  IPython.display.display(Audio(waveform, rate=fs))\n",
        "  \n",
        "def visualize(alignment, spectrogram):\n",
        "  label_fontsize = 16\n",
        "  figure(figsize=(16,16))\n",
        "\n",
        "  subplot(2,1,1)\n",
        "  imshow(alignment.T, aspect=\"auto\", origin=\"lower\", interpolation=None)\n",
        "  xlabel(\"Decoder timestamp\", fontsize=label_fontsize)\n",
        "  ylabel(\"Encoder timestamp\", fontsize=label_fontsize)\n",
        "  colorbar()\n",
        "\n",
        "  subplot(2,1,2)\n",
        "  librosa.display.specshow(spectrogram.T, sr=fs, \n",
        "                           hop_length=hop_length, x_axis=\"time\", y_axis=\"linear\")\n",
        "  xlabel(\"Time\", fontsize=label_fontsize)\n",
        "  ylabel(\"Hz\", fontsize=label_fontsize)\n",
        "  tight_layout()\n",
        "  colorbar()"
      ],
      "execution_count": null,
      "outputs": []
    },
    {
      "cell_type": "markdown",
      "metadata": {
        "id": "m2jmbSD430Ws"
      },
      "source": [
        "### Load the model checkpoint"
      ]
    },
    {
      "cell_type": "code",
      "metadata": {
        "id": "lr8pgqtYhvav"
      },
      "source": [
        "from train import build_model\n",
        "from train import restore_parts, load_checkpoint\n",
        "\n",
        "model = build_model()\n",
        "model = load_checkpoint(checkpoint_path, model, None, True)"
      ],
      "execution_count": null,
      "outputs": []
    },
    {
      "cell_type": "markdown",
      "metadata": {
        "id": "DOJ3miW63ywA"
      },
      "source": [
        "### Preprocess Text"
      ]
    },
    {
      "cell_type": "code",
      "metadata": {
        "id": "IpgBKo5dkOxA"
      },
      "source": [
        "from g2p_cw_rules import g2p_cw_rules\n",
        "import re"
      ],
      "execution_count": null,
      "outputs": []
    },
    {
      "cell_type": "code",
      "metadata": {
        "id": "9PBlkj6fi8p1"
      },
      "source": [
        "# Enter the Sentence/word in Maltese into the string 'texts'\n",
        "text = \"Dik il-ħabta l-uġigħ ta' rasijiet kienu fl-aqwa tagħhom\""
      ],
      "execution_count": null,
      "outputs": []
    },
    {
      "cell_type": "code",
      "metadata": {
        "id": "4TdE8_us6rgT"
      },
      "source": [
        "# convert text to phonemes\n",
        "text = g2p_cw_rules(text)\n",
        "\n",
        "# fix kh instances from g2p tool\n",
        "text = (re.sub('kh','',re.sub('kh ','h ',text)))\n",
        "\n",
        "# make sure the sentence has sufficent length for attention mechanisim\n",
        "text.ljust(30,'.')    \n",
        "\n",
        "# make sure a sentence ends in full stop\n",
        "if(text[-1:] != '.'):\n",
        "    text = text + '.'\n",
        "\n",
        "# padd 'x' sounds with spaces. Tend to produce better pronounciations more often than not.    \n",
        "text = re.sub('ʃ',' ʃ ',text)"
      ],
      "execution_count": null,
      "outputs": []
    },
    {
      "cell_type": "markdown",
      "metadata": {
        "id": "TvZmCLjCwKvy"
      },
      "source": [
        "### Generate speech"
      ]
    },
    {
      "cell_type": "code",
      "metadata": {
        "id": "iQRb0ACZjJi6"
      },
      "source": [
        "tts(model, text, figures=False)"
      ],
      "execution_count": null,
      "outputs": []
    }
  ]
}